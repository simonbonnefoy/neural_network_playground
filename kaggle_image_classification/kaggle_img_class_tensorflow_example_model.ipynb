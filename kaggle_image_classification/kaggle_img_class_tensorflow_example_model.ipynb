{
 "cells": [
  {
   "cell_type": "code",
   "execution_count": 67,
   "id": "c5f2cfe8-611d-487d-bcb0-33a89a1d8f22",
   "metadata": {},
   "outputs": [],
   "source": [
    "import tensorflow as tf\n",
    "import pandas as pd\n",
    "import tqdm\n",
    "import cv2\n",
    "from tensorflow.keras import datasets, layers, models\n",
    "import os\n",
    "import numpy as np"
   ]
  },
  {
   "cell_type": "code",
   "execution_count": 68,
   "id": "e814d373-7340-4934-8464-e62268f10b7b",
   "metadata": {},
   "outputs": [
    {
     "data": {
      "text/plain": [
       "'Attire'"
      ]
     },
     "execution_count": 68,
     "metadata": {},
     "output_type": "execute_result"
    }
   ],
   "source": [
    "train=pd.read_csv('./dataset/train.csv')\n",
    "test=pd.read_csv('./dataset/test.csv')\n",
    "train.head()\n",
    "train['Class'][2]"
   ]
  },
  {
   "cell_type": "code",
   "execution_count": 69,
   "id": "0874edae-b7c3-4390-8190-3fb1f3b39713",
   "metadata": {},
   "outputs": [
    {
     "data": {
      "text/plain": [
       "1"
      ]
     },
     "execution_count": 69,
     "metadata": {},
     "output_type": "execute_result"
    }
   ],
   "source": [
    "Class_map={'Food':0,'Attire':1,'Decorationandsignage':2,'misc':3}\n",
    "inverse_map={0:'Food',1:'Attire',2:'Decorationandsignage',3:'misc'}\n",
    "train['Class']=train['Class'].map(Class_map)\n",
    "train['Class'][2]"
   ]
  },
  {
   "cell_type": "code",
   "execution_count": 83,
   "id": "f13ea7db-27a6-44f5-876c-4c3634a53a54",
   "metadata": {},
   "outputs": [
    {
     "name": "stderr",
     "output_type": "stream",
     "text": [
      "100%|██████████████████████████████████████████████████████████████████████████████████████████████████████████████████████████████████████████████████████████████████████████████████████████████████████████████████| 5983/5983 [00:03<00:00, 1546.69it/s]\n"
     ]
    }
   ],
   "source": [
    "train_img=[]\n",
    "train_label=[]\n",
    "j=0\n",
    "path='./dataset/Train Images'\n",
    "for i in tqdm.tqdm(train['Image']):\n",
    "    final_path=os.path.join(path,i)\n",
    "    img=cv2.imread(final_path)\n",
    "    #print(img.shape[:2])\n",
    "    img=cv2.resize(img,(150,150))/255.0\n",
    "    img=img.astype('float32')\n",
    "    train_img.append(img)\n",
    "    train_label.append(train['Class'][j])\n",
    "    j=j+1\n"
   ]
  },
  {
   "cell_type": "code",
   "execution_count": 71,
   "id": "3e83066f-8e82-4057-bcba-a3d947c4a373",
   "metadata": {},
   "outputs": [],
   "source": [
    "# Split train dataset in train and validation dataset\n",
    "# Validation dataset is 30% of data and train is 70 %\n",
    "train_size = len(train_img)\n",
    "val_images = np.array(train_img[round(train_size*0.7):])\n",
    "val_labels = np.array(train_label[round(train_size*0.7):])\n",
    "train_images = np.array(train_img[:round(train_size*0.7)])\n",
    "train_labels = np.array(train_label[:round(train_size*0.7)])\n"
   ]
  },
  {
   "cell_type": "code",
   "execution_count": 72,
   "id": "886f58cf-01cf-4f7a-a86f-231ca54c38bb",
   "metadata": {},
   "outputs": [
    {
     "name": "stdout",
     "output_type": "stream",
     "text": [
      "Model: \"sequential_8\"\n",
      "_________________________________________________________________\n",
      " Layer (type)                Output Shape              Param #   \n",
      "=================================================================\n",
      " conv2d_24 (Conv2D)          (None, 148, 148, 32)      896       \n",
      "                                                                 \n",
      " max_pooling2d_16 (MaxPooli  (None, 74, 74, 32)        0         \n",
      " ng2D)                                                           \n",
      "                                                                 \n",
      " conv2d_25 (Conv2D)          (None, 72, 72, 64)        18496     \n",
      "                                                                 \n",
      " max_pooling2d_17 (MaxPooli  (None, 36, 36, 64)        0         \n",
      " ng2D)                                                           \n",
      "                                                                 \n",
      " conv2d_26 (Conv2D)          (None, 34, 34, 64)        36928     \n",
      "                                                                 \n",
      " flatten_8 (Flatten)         (None, 73984)             0         \n",
      "                                                                 \n",
      " dense_16 (Dense)            (None, 64)                4735040   \n",
      "                                                                 \n",
      " dense_17 (Dense)            (None, 4)                 260       \n",
      "                                                                 \n",
      "=================================================================\n",
      "Total params: 4791620 (18.28 MB)\n",
      "Trainable params: 4791620 (18.28 MB)\n",
      "Non-trainable params: 0 (0.00 Byte)\n",
      "_________________________________________________________________\n"
     ]
    }
   ],
   "source": [
    "model = models.Sequential()\n",
    "model.add(layers.Conv2D(32, (3, 3), activation='relu', input_shape=(150,150, 3)))\n",
    "model.add(layers.MaxPooling2D((2, 2)))\n",
    "model.add(layers.Conv2D(64, (3, 3), activation='relu'))\n",
    "model.add(layers.MaxPooling2D((2, 2)))\n",
    "model.add(layers.Conv2D(64, (3, 3), activation='relu'))\n",
    "model.add(layers.Flatten())\n",
    "model.add(layers.Dense(64, activation='relu'))\n",
    "model.add(layers.Dense(4))\n",
    "\n",
    "model.summary()"
   ]
  },
  {
   "cell_type": "code",
   "execution_count": 73,
   "id": "5fe1acbe-f55e-45d8-a7ea-8d4482dc3eeb",
   "metadata": {},
   "outputs": [
    {
     "name": "stdout",
     "output_type": "stream",
     "text": [
      "Epoch 1/10\n",
      "131/131 [==============================] - 53s 401ms/step - loss: 1.2899 - accuracy: 0.3878 - val_loss: 1.1910 - val_accuracy: 0.4680\n",
      "Epoch 2/10\n",
      "131/131 [==============================] - 56s 431ms/step - loss: 1.1975 - accuracy: 0.4587 - val_loss: 1.1900 - val_accuracy: 0.4624\n",
      "Epoch 3/10\n",
      "131/131 [==============================] - 55s 417ms/step - loss: 1.1206 - accuracy: 0.5105 - val_loss: 1.1411 - val_accuracy: 0.5003\n",
      "Epoch 4/10\n",
      "131/131 [==============================] - 53s 402ms/step - loss: 1.0221 - accuracy: 0.5578 - val_loss: 1.1650 - val_accuracy: 0.5153\n",
      "Epoch 5/10\n",
      "131/131 [==============================] - 53s 405ms/step - loss: 0.8430 - accuracy: 0.6502 - val_loss: 1.3021 - val_accuracy: 0.4763\n",
      "Epoch 6/10\n",
      "131/131 [==============================] - 61s 469ms/step - loss: 0.6068 - accuracy: 0.7600 - val_loss: 1.7238 - val_accuracy: 0.4635\n",
      "Epoch 7/10\n",
      "131/131 [==============================] - 54s 409ms/step - loss: 0.4070 - accuracy: 0.8457 - val_loss: 1.9367 - val_accuracy: 0.4585\n",
      "Epoch 8/10\n",
      "131/131 [==============================] - 53s 407ms/step - loss: 0.2547 - accuracy: 0.9131 - val_loss: 2.4293 - val_accuracy: 0.4886\n",
      "Epoch 9/10\n",
      "131/131 [==============================] - 51s 387ms/step - loss: 0.1723 - accuracy: 0.9458 - val_loss: 3.1235 - val_accuracy: 0.4479\n",
      "Epoch 10/10\n",
      "131/131 [==============================] - 51s 386ms/step - loss: 0.1188 - accuracy: 0.9704 - val_loss: 3.5252 - val_accuracy: 0.4524\n"
     ]
    }
   ],
   "source": [
    "model.compile(optimizer='adam',\n",
    "              loss=tf.keras.losses.SparseCategoricalCrossentropy(from_logits=True),\n",
    "              metrics=['accuracy'])\n",
    "\n",
    "history = model.fit(train_images, train_labels, epochs=10, \n",
    "                    validation_data=(val_images, val_labels))\n"
   ]
  },
  {
   "cell_type": "code",
   "execution_count": 74,
   "id": "b1740320-f1d5-4981-a135-6cb378966b11",
   "metadata": {},
   "outputs": [
    {
     "name": "stdout",
     "output_type": "stream",
     "text": [
      "57/57 - 4s - loss: 3.5252 - accuracy: 0.4524 - 4s/epoch - 73ms/step\n"
     ]
    },
    {
     "data": {
      "image/png": "[encoded data removed]",
      "text/plain": [
       "<Figure size 640x480 with 1 Axes>"
      ]
     },
     "metadata": {},
     "output_type": "display_data"
    }
   ],
   "source": [
    "import matplotlib.pyplot as plt\n",
    "plt.plot(history.history['accuracy'], label='accuracy')\n",
    "plt.plot(history.history['val_accuracy'], label = 'val_accuracy')\n",
    "plt.xlabel('Epoch')\n",
    "plt.ylabel('Accuracy')\n",
    "plt.ylim([0.5, 1])\n",
    "plt.legend(loc='lower right')\n",
    "\n",
    "test_loss, test_acc = model.evaluate(val_images,  val_labels, verbose=2)\n"
   ]
  },
  {
   "cell_type": "code",
   "execution_count": 75,
   "id": "d599fa44-1d37-426c-afb3-a9cb33952db7",
   "metadata": {},
   "outputs": [
    {
     "name": "stderr",
     "output_type": "stream",
     "text": [
      "100%|██████████████████████████████████████████████████████████████████████████████████████████████████████████████████████████████████████████████████████████████████████████████████████████████████████████████████| 3219/3219 [2:00:03<00:00,  2.24s/it]\n"
     ]
    }
   ],
   "source": [
    "test_img=[]\n",
    "path='./dataset/Test Images'\n",
    "for i in tqdm.tqdm(test['Image']):\n",
    "    final_path=os.path.join(path,i)\n",
    "    img=cv2.imread(final_path)\n",
    "    img=cv2.resize(img,(150,150))\n",
    "    img=img.astype('float32')\n",
    "    test_img.append(img)"
   ]
  },
  {
   "cell_type": "code",
   "execution_count": 76,
   "id": "72ef739a-51e3-478c-be34-d30933e6b1b4",
   "metadata": {},
   "outputs": [],
   "source": [
    "test_img = np.array(test_img)"
   ]
  },
  {
   "cell_type": "code",
   "execution_count": 77,
   "id": "e2e9adab-14c9-4b1a-9083-3ae0336fc395",
   "metadata": {},
   "outputs": [
    {
     "name": "stdout",
     "output_type": "stream",
     "text": [
      "101/101 [==============================] - 7s 70ms/step\n"
     ]
    }
   ],
   "source": [
    "labels = model.predict(test_img)"
   ]
  },
  {
   "cell_type": "code",
   "execution_count": 78,
   "id": "d8768a0b-f978-4fde-98aa-2b79b1e85e5f",
   "metadata": {},
   "outputs": [
    {
     "data": {
      "text/plain": [
       "array([[ -201.96326,   477.42072,  -747.20526,   886.24976],\n",
       "       [  674.5095 ,  1002.22925,  -569.92505,    79.70326],\n",
       "       [ 1194.3225 ,  1724.7179 ,  -946.41516,   113.64885],\n",
       "       [  443.7953 ,  1002.362  , -1593.1631 ,   718.991  ]],\n",
       "      dtype=float32)"
      ]
     },
     "execution_count": 78,
     "metadata": {},
     "output_type": "execute_result"
    }
   ],
   "source": [
    "labels[:4]"
   ]
  },
  {
   "cell_type": "code",
   "execution_count": 79,
   "id": "83145922-354e-4896-af3a-2de886d4a2dc",
   "metadata": {},
   "outputs": [],
   "source": [
    "label = [np.argmax(i) for i in labels]"
   ]
  },
  {
   "cell_type": "code",
   "execution_count": 80,
   "id": "b2758ef3-4ee9-4e51-b056-5c8345a0477b",
   "metadata": {},
   "outputs": [
    {
     "data": {
      "text/plain": [
       "[3, 1, 1, 1]"
      ]
     },
     "execution_count": 80,
     "metadata": {},
     "output_type": "execute_result"
    }
   ],
   "source": [
    "label[:4]"
   ]
  },
  {
   "cell_type": "code",
   "execution_count": 81,
   "id": "7a65a54c-eeb1-4470-a31c-5ba6e26ae2a4",
   "metadata": {},
   "outputs": [
    {
     "name": "stdout",
     "output_type": "stream",
     "text": [
      "['misc', 'Attire', 'Attire']\n"
     ]
    }
   ],
   "source": [
    "class_label = [inverse_map[x] for x in label]\n",
    "print(class_label[:3])"
   ]
  },
  {
   "cell_type": "code",
   "execution_count": 82,
   "id": "adb64ed4-9d2f-454c-bbb8-ac97ae4afd5a",
   "metadata": {},
   "outputs": [],
   "source": [
    "submission = pd.DataFrame({ 'Image': test.Image, 'Class': class_label })\n",
    "submission.head(10)\n",
    "submission.to_csv('submission.csv', index=False)\n"
   ]
  },
  {
   "cell_type": "code",
   "execution_count": null,
   "id": "dd85b98e-cc4a-4709-b762-889d9ba0480c",
   "metadata": {},
   "outputs": [],
   "source": []
  }
 ],
 "metadata": {
  "kernelspec": {
   "display_name": "Python 3 (ipykernel)",
   "language": "python",
   "name": "python3"
  },
  "language_info": {
   "codemirror_mode": {
    "name": "ipython",
    "version": 3
   },
   "file_extension": ".py",
   "mimetype": "text/x-python",
   "name": "python",
   "nbconvert_exporter": "python",
   "pygments_lexer": "ipython3",
   "version": "3.11.5"
  }
 },
 "nbformat": 4,
 "nbformat_minor": 5
}
